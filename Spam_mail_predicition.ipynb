{
  "cells": [
    {
      "cell_type": "code",
      "execution_count": 18,
      "metadata": {
        "id": "PNV3UVoHEk5t"
      },
      "outputs": [
        {
          "ename": "ModuleNotFoundError",
          "evalue": "No module named 'pandas'",
          "output_type": "error",
          "traceback": [
            "\u001b[1;31m---------------------------------------------------------------------------\u001b[0m",
            "\u001b[1;31mModuleNotFoundError\u001b[0m                       Traceback (most recent call last)",
            "Cell \u001b[1;32mIn[18], line 2\u001b[0m\n\u001b[0;32m      1\u001b[0m \u001b[38;5;66;03m#importing dependecies\u001b[39;00m\n\u001b[1;32m----> 2\u001b[0m \u001b[38;5;28;01mimport\u001b[39;00m \u001b[38;5;21;01mpandas\u001b[39;00m \u001b[38;5;28;01mas\u001b[39;00m \u001b[38;5;21;01mpd\u001b[39;00m\n\u001b[0;32m      3\u001b[0m \u001b[38;5;28;01mimport\u001b[39;00m \u001b[38;5;21;01mnumpy\u001b[39;00m \u001b[38;5;28;01mas\u001b[39;00m \u001b[38;5;21;01mnp\u001b[39;00m\n\u001b[0;32m      4\u001b[0m \u001b[38;5;28;01mfrom\u001b[39;00m \u001b[38;5;21;01msklearn\u001b[39;00m\u001b[38;5;21;01m.\u001b[39;00m\u001b[38;5;21;01mmodel_selection\u001b[39;00m \u001b[38;5;28;01mimport\u001b[39;00m train_test_split\n",
            "\u001b[1;31mModuleNotFoundError\u001b[0m: No module named 'pandas'"
          ]
        }
      ],
      "source": [
        "#importing dependecies\n",
        "import pandas as pd\n",
        "import numpy as np\n",
        "from sklearn.model_selection import train_test_split\n",
        "from sklearn.feature_extraction.text import TfidfVectorizer\n",
        "from sklearn.linear_model import LogisticRegression\n",
        "from sklearn.metrics import accuracy_score"
      ]
    },
    {
      "cell_type": "markdown",
      "metadata": {
        "id": "QXn0t4MIHIWG"
      },
      "source": [
        "Data collection and preprocessing"
      ]
    },
    {
      "cell_type": "code",
      "execution_count": 3,
      "metadata": {
        "id": "HPkzAuSsGdTU"
      },
      "outputs": [],
      "source": [
        "raw_mail_data = pd.read_csv('/content/mail_data.csv')"
      ]
    },
    {
      "cell_type": "code",
      "execution_count": 4,
      "metadata": {
        "colab": {
          "base_uri": "https://localhost:8080/",
          "height": 146
        },
        "id": "LtfUYRBbG0tI",
        "outputId": "eea9ddaa-1057-4e8e-ca45-07e300a8ba72"
      },
      "outputs": [
        {
          "data": {
            "text/html": [
              "<div>\n",
              "<style scoped>\n",
              "    .dataframe tbody tr th:only-of-type {\n",
              "        vertical-align: middle;\n",
              "    }\n",
              "\n",
              "    .dataframe tbody tr th {\n",
              "        vertical-align: top;\n",
              "    }\n",
              "\n",
              "    .dataframe thead th {\n",
              "        text-align: right;\n",
              "    }\n",
              "</style>\n",
              "<table border=\"1\" class=\"dataframe\">\n",
              "  <thead>\n",
              "    <tr style=\"text-align: right;\">\n",
              "      <th></th>\n",
              "      <th>0</th>\n",
              "    </tr>\n",
              "  </thead>\n",
              "  <tbody>\n",
              "    <tr>\n",
              "      <th>Category</th>\n",
              "      <td>0</td>\n",
              "    </tr>\n",
              "    <tr>\n",
              "      <th>Message</th>\n",
              "      <td>0</td>\n",
              "    </tr>\n",
              "  </tbody>\n",
              "</table>\n",
              "</div><br><label><b>dtype:</b> int64</label>"
            ],
            "text/plain": [
              "Category    0\n",
              "Message     0\n",
              "dtype: int64"
            ]
          },
          "execution_count": 4,
          "metadata": {},
          "output_type": "execute_result"
        }
      ],
      "source": [
        "raw_mail_data.isnull().sum()"
      ]
    },
    {
      "cell_type": "code",
      "execution_count": 5,
      "metadata": {
        "id": "It0dfIuIHbaS"
      },
      "outputs": [],
      "source": [
        "#replacing the missing values with null string\n",
        "mail_data =raw_mail_data.fillna('')"
      ]
    },
    {
      "cell_type": "code",
      "execution_count": 6,
      "metadata": {
        "colab": {
          "base_uri": "https://localhost:8080/",
          "height": 146
        },
        "id": "I-sKCk54I4vc",
        "outputId": "2e69a34c-f67c-4679-d3e1-3d400caec71a"
      },
      "outputs": [
        {
          "data": {
            "text/html": [
              "<div>\n",
              "<style scoped>\n",
              "    .dataframe tbody tr th:only-of-type {\n",
              "        vertical-align: middle;\n",
              "    }\n",
              "\n",
              "    .dataframe tbody tr th {\n",
              "        vertical-align: top;\n",
              "    }\n",
              "\n",
              "    .dataframe thead th {\n",
              "        text-align: right;\n",
              "    }\n",
              "</style>\n",
              "<table border=\"1\" class=\"dataframe\">\n",
              "  <thead>\n",
              "    <tr style=\"text-align: right;\">\n",
              "      <th></th>\n",
              "      <th>0</th>\n",
              "    </tr>\n",
              "  </thead>\n",
              "  <tbody>\n",
              "    <tr>\n",
              "      <th>Category</th>\n",
              "      <td>0</td>\n",
              "    </tr>\n",
              "    <tr>\n",
              "      <th>Message</th>\n",
              "      <td>0</td>\n",
              "    </tr>\n",
              "  </tbody>\n",
              "</table>\n",
              "</div><br><label><b>dtype:</b> int64</label>"
            ],
            "text/plain": [
              "Category    0\n",
              "Message     0\n",
              "dtype: int64"
            ]
          },
          "execution_count": 6,
          "metadata": {},
          "output_type": "execute_result"
        }
      ],
      "source": [
        "mail_data.isnull().sum()"
      ]
    },
    {
      "cell_type": "code",
      "execution_count": 2,
      "metadata": {
        "colab": {
          "base_uri": "https://localhost:8080/",
          "height": 206
        },
        "id": "l0FaUy8hKA7H",
        "outputId": "dd5a093a-25d8-4508-d1b7-1e10beb9de13"
      },
      "outputs": [
        {
          "ename": "NameError",
          "evalue": "name 'mail_data' is not defined",
          "output_type": "error",
          "traceback": [
            "\u001b[1;31m---------------------------------------------------------------------------\u001b[0m",
            "\u001b[1;31mNameError\u001b[0m                                 Traceback (most recent call last)",
            "Cell \u001b[1;32mIn[2], line 1\u001b[0m\n\u001b[1;32m----> 1\u001b[0m \u001b[43mmail_data\u001b[49m\u001b[38;5;241m.\u001b[39mhead()\n",
            "\u001b[1;31mNameError\u001b[0m: name 'mail_data' is not defined"
          ]
        }
      ],
      "source": [
        "mail_data.head()"
      ]
    },
    {
      "cell_type": "code",
      "execution_count": 3,
      "metadata": {
        "colab": {
          "base_uri": "https://localhost:8080/"
        },
        "id": "PRCjwUX9KJhF",
        "outputId": "8bd189de-c113-47ea-9fe6-45241730bdb1"
      },
      "outputs": [
        {
          "ename": "NameError",
          "evalue": "name 'mail_data' is not defined",
          "output_type": "error",
          "traceback": [
            "\u001b[1;31m---------------------------------------------------------------------------\u001b[0m",
            "\u001b[1;31mNameError\u001b[0m                                 Traceback (most recent call last)",
            "Cell \u001b[1;32mIn[3], line 1\u001b[0m\n\u001b[1;32m----> 1\u001b[0m \u001b[43mmail_data\u001b[49m\u001b[38;5;241m.\u001b[39mshape\n",
            "\u001b[1;31mNameError\u001b[0m: name 'mail_data' is not defined"
          ]
        }
      ],
      "source": [
        "mail_data.shape"
      ]
    },
    {
      "cell_type": "markdown",
      "metadata": {
        "id": "outEFYAXL_US"
      },
      "source": [
        "Label Encoding"
      ]
    },
    {
      "cell_type": "code",
      "execution_count": 4,
      "metadata": {
        "id": "qUo669hnLswf"
      },
      "outputs": [
        {
          "ename": "NameError",
          "evalue": "name 'mail_data' is not defined",
          "output_type": "error",
          "traceback": [
            "\u001b[1;31m---------------------------------------------------------------------------\u001b[0m",
            "\u001b[1;31mNameError\u001b[0m                                 Traceback (most recent call last)",
            "Cell \u001b[1;32mIn[4], line 2\u001b[0m\n\u001b[0;32m      1\u001b[0m \u001b[38;5;66;03m# label spam mail as 0; ham mail as 1;\u001b[39;00m\n\u001b[1;32m----> 2\u001b[0m \u001b[43mmail_data\u001b[49m\u001b[38;5;241m.\u001b[39mloc[mail_data[\u001b[38;5;124m'\u001b[39m\u001b[38;5;124mCategory\u001b[39m\u001b[38;5;124m'\u001b[39m] \u001b[38;5;241m==\u001b[39m \u001b[38;5;124m'\u001b[39m\u001b[38;5;124mspam\u001b[39m\u001b[38;5;124m'\u001b[39m, \u001b[38;5;124m'\u001b[39m\u001b[38;5;124mCategory\u001b[39m\u001b[38;5;124m'\u001b[39m,] \u001b[38;5;241m=\u001b[39m \u001b[38;5;241m0\u001b[39m\n\u001b[0;32m      3\u001b[0m mail_data\u001b[38;5;241m.\u001b[39mloc[mail_data[\u001b[38;5;124m'\u001b[39m\u001b[38;5;124mCategory\u001b[39m\u001b[38;5;124m'\u001b[39m] \u001b[38;5;241m==\u001b[39m \u001b[38;5;124m'\u001b[39m\u001b[38;5;124mham\u001b[39m\u001b[38;5;124m'\u001b[39m, \u001b[38;5;124m'\u001b[39m\u001b[38;5;124mCategory\u001b[39m\u001b[38;5;124m'\u001b[39m,] \u001b[38;5;241m=\u001b[39m \u001b[38;5;241m1\u001b[39m\n",
            "\u001b[1;31mNameError\u001b[0m: name 'mail_data' is not defined"
          ]
        }
      ],
      "source": [
        " # label spam mail as 0; ham mail as 1;\n",
        "mail_data.loc[mail_data['Category'] == 'spam', 'Category',] = 0\n",
        "mail_data.loc[mail_data['Category'] == 'ham', 'Category',] = 1"
      ]
    },
    {
      "cell_type": "code",
      "execution_count": 5,
      "metadata": {
        "id": "bTme-3isMjy-"
      },
      "outputs": [
        {
          "ename": "NameError",
          "evalue": "name 'mail_data' is not defined",
          "output_type": "error",
          "traceback": [
            "\u001b[1;31m---------------------------------------------------------------------------\u001b[0m",
            "\u001b[1;31mNameError\u001b[0m                                 Traceback (most recent call last)",
            "Cell \u001b[1;32mIn[5], line 1\u001b[0m\n\u001b[1;32m----> 1\u001b[0m X \u001b[38;5;241m=\u001b[39m \u001b[43mmail_data\u001b[49m[\u001b[38;5;124m'\u001b[39m\u001b[38;5;124mMessage\u001b[39m\u001b[38;5;124m'\u001b[39m]\n\u001b[0;32m      2\u001b[0m Y \u001b[38;5;241m=\u001b[39m mail_data[\u001b[38;5;124m'\u001b[39m\u001b[38;5;124mCategory\u001b[39m\u001b[38;5;124m'\u001b[39m]\n",
            "\u001b[1;31mNameError\u001b[0m: name 'mail_data' is not defined"
          ]
        }
      ],
      "source": [
        "X = mail_data['Message']\n",
        "Y = mail_data['Category']"
      ]
    },
    {
      "cell_type": "code",
      "execution_count": 11,
      "metadata": {
        "id": "m0s_Y6b_M66Z"
      },
      "outputs": [],
      "source": [
        "X_train, X_test, Y_train, Y_test = train_test_split(X, Y, test_size=0.2, stratify = Y,random_state=3)"
      ]
    },
    {
      "cell_type": "markdown",
      "metadata": {
        "id": "Bj_Bipi5NkBK"
      },
      "source": [
        "Feature extraction"
      ]
    },
    {
      "cell_type": "code",
      "execution_count": 12,
      "metadata": {
        "id": "mD26Cpa2NMzr"
      },
      "outputs": [],
      "source": [
        "#transform the text data vectors that can be used as input to LogisticRegression\n",
        "\n",
        "feature_extraction = TfidfVectorizer(min_df=1, stop_words='english',lowercase= True)\n",
        "\n",
        "X_train_features = feature_extraction.fit_transform(X_train)\n",
        "X_test_features = feature_extraction.transform(X_test)\n",
        "\n",
        "#convert Y_train and Y_test values as integers\n",
        "\n",
        "Y_train = Y_train.astype('int')\n",
        "Y_test = Y_test.astype('int')"
      ]
    },
    {
      "cell_type": "code",
      "execution_count": 13,
      "metadata": {
        "colab": {
          "base_uri": "https://localhost:8080/"
        },
        "id": "653gry06TxY9",
        "outputId": "debf4659-7e89-4910-facd-9ddb43c1c971"
      },
      "outputs": [
        {
          "name": "stdout",
          "output_type": "stream",
          "text": [
            "  (0, 2353)\t0.28101404009316056\n",
            "  (0, 3806)\t0.28101404009316056\n",
            "  (0, 1857)\t0.17073786814794129\n",
            "  (0, 1193)\t0.22908400928709988\n",
            "  (0, 3113)\t0.28101404009316056\n",
            "  (0, 3627)\t0.25144905621529934\n",
            "  (0, 6330)\t0.24059246244542992\n",
            "  (0, 1540)\t0.17407870571957915\n",
            "  (0, 2644)\t0.28101404009316056\n",
            "  (0, 5029)\t0.17467075796896542\n",
            "  (0, 4306)\t0.26793132631329497\n",
            "  (0, 421)\t0.25144905621529934\n",
            "  (0, 4557)\t0.28101404009316056\n",
            "  (0, 6468)\t0.26793132631329497\n",
            "  (0, 1657)\t0.28101404009316056\n",
            "  (0, 0)\t0.23628394623676158\n",
            "  (1, 3982)\t0.4167622750027118\n",
            "  (1, 5911)\t0.2761926296686631\n",
            "  (1, 3941)\t0.20702870014136815\n",
            "  (1, 1969)\t0.1749293187718031\n",
            "  (1, 6553)\t0.4722950153731612\n",
            "  (1, 5947)\t0.24356944504246256\n",
            "  (1, 3948)\t0.2761926296686631\n",
            "  (1, 2113)\t0.1985161464110967\n",
            "  (1, 3828)\t0.13684128003316173\n",
            "  :\t:\n",
            "  (4456, 5091)\t0.1743505991070133\n",
            "  (4456, 7339)\t0.13767285254208542\n",
            "  (4456, 2414)\t0.17857780047236718\n",
            "  (4456, 3262)\t0.16745892210920407\n",
            "  (4456, 7434)\t0.1566807006510762\n",
            "  (4456, 4120)\t0.11213756070741854\n",
            "  (4456, 3147)\t0.11213756070741854\n",
            "  (4456, 5430)\t0.2902170940779003\n",
            "  (4456, 3362)\t0.13296028402451\n",
            "  (4456, 1571)\t0.1695693884304312\n",
            "  (4456, 4975)\t0.15534275099802256\n",
            "  (4456, 1290)\t0.1566807006510762\n",
            "  (4456, 2236)\t0.17068883072653956\n",
            "  (4456, 2690)\t0.19758564858135794\n",
            "  (4456, 4765)\t0.1730749026661772\n",
            "  (4456, 5420)\t0.19758564858135794\n",
            "  (4456, 4878)\t0.2137042449780485\n",
            "  (4456, 5447)\t0.2198234053076842\n",
            "  (4456, 6646)\t0.22771237505351186\n",
            "  (4456, 6568)\t0.23883125341667502\n",
            "  (4456, 2138)\t0.23883125341667502\n",
            "  (4456, 3913)\t0.23883125341667502\n",
            "  (4456, 1186)\t0.23883125341667502\n",
            "  (4456, 877)\t0.23883125341667502\n",
            "  (4456, 7001)\t0.23883125341667502\n"
          ]
        }
      ],
      "source": [
        "print(X_train_features)"
      ]
    },
    {
      "cell_type": "markdown",
      "metadata": {
        "id": "CHFF27DXU3lS"
      },
      "source": [
        "Trainning the model"
      ]
    },
    {
      "cell_type": "markdown",
      "metadata": {
        "id": "8pJxnnkjU8KA"
      },
      "source": [
        "Logistic Regression"
      ]
    },
    {
      "cell_type": "code",
      "execution_count": 14,
      "metadata": {
        "id": "inOLCuxrU29B"
      },
      "outputs": [],
      "source": [
        "model = LogisticRegression()"
      ]
    },
    {
      "cell_type": "code",
      "execution_count": 15,
      "metadata": {
        "colab": {
          "base_uri": "https://localhost:8080/"
        },
        "id": "R72gNn4OT4DD",
        "outputId": "58d1d71e-7b1a-45b0-9d82-0ee4f03c7a20"
      },
      "outputs": [
        {
          "name": "stdout",
          "output_type": "stream",
          "text": [
            "0.9667938074938299\n",
            "0.9713004484304932\n"
          ]
        }
      ],
      "source": [
        "model.fit(X_train_features,Y_train)\n",
        "X_train_prediction = model.predict(X_train_features)\n",
        "#accuracy\n",
        "train_accuracy = accuracy_score(X_train_prediction,Y_train)\n",
        "print(train_accuracy)\n",
        "X_test_prediction = model.predict(X_test_features)\n",
        "#accuracy\n",
        "test_accuracy = accuracy_score(X_test_prediction,Y_test)\n",
        "print(test_accuracy)"
      ]
    },
    {
      "cell_type": "markdown",
      "metadata": {
        "id": "c-7YBQndWZ7X"
      },
      "source": [
        "Building a Predictive System"
      ]
    },
    {
      "cell_type": "code",
      "execution_count": 19,
      "metadata": {
        "colab": {
          "base_uri": "https://localhost:8080/"
        },
        "id": "CLfdIaNcVniS",
        "outputId": "b3073e24-64f8-4629-be6a-19fadaf0bc5f"
      },
      "outputs": [
        {
          "name": "stdout",
          "output_type": "stream",
          "text": [
            "Enter mailFree entry in 2 a wkly comp to win FA Cup final tkts 21st May 2005. Text FA to 87121 to receive entry question(std txt rate)T&C's apply 08452810075over18's\n",
            "[0]\n",
            "Spam mail\n"
          ]
        }
      ],
      "source": [
        "\n",
        "input_mail = input(\"Enter mail\")\n",
        "#convert text to feature vectors\n",
        "input_data_features = feature_extraction.transform([input_mail])\n",
        "\n",
        "#making prediction\n",
        "prediction = model.predict(input_data_features)\n",
        "print(prediction)\n",
        "\n",
        "if (prediction[0]==1):\n",
        "  print('Ham mail')\n",
        "else:\n",
        "\n",
        "  print('Spam mail')"
      ]
    },
    {
      "cell_type": "code",
      "execution_count": null,
      "metadata": {
        "id": "lx-LwUDWWl6e"
      },
      "outputs": [],
      "source": []
    }
  ],
  "metadata": {
    "colab": {
      "provenance": []
    },
    "kernelspec": {
      "display_name": "Python 3",
      "name": "python3"
    },
    "language_info": {
      "codemirror_mode": {
        "name": "ipython",
        "version": 3
      },
      "file_extension": ".py",
      "mimetype": "text/x-python",
      "name": "python",
      "nbconvert_exporter": "python",
      "pygments_lexer": "ipython3",
      "version": "3.13.1"
    }
  },
  "nbformat": 4,
  "nbformat_minor": 0
}
